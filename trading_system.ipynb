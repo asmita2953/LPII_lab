{
 "cells": [
  {
   "cell_type": "code",
   "execution_count": 35,
   "id": "3bf1140d",
   "metadata": {},
   "outputs": [],
   "source": [
    "import warnings\n",
    "from sklearn.exceptions import ConvergenceWarning\n",
    "from sklearn.linear_model import LinearRegression\n",
    "import numpy as np\n",
    "import pandas as pd\n",
    "import matplotlib.pyplot as plt\n",
    "import yfinance as yf"
   ]
  },
  {
   "cell_type": "code",
   "execution_count": 36,
   "id": "608fbb62",
   "metadata": {},
   "outputs": [],
   "source": [
    "def load_data():\n",
    "    # Implement your data loading logic here\n",
    "    # Return X and y as numpy arrays\n",
    "    pass\n",
    "\n",
    "# Fetch data using yfinance\n",
    "google = yf.Ticker(\"GOOG\")"
   ]
  },
  {
   "cell_type": "code",
   "execution_count": 37,
   "id": "6253511f-fee5-4ece-8e48-ad95c6794a31",
   "metadata": {},
   "outputs": [
    {
     "name": "stdout",
     "output_type": "stream",
     "text": [
      "                                 Open        High         Low       Close  \\\n",
      "Datetime                                                                    \n",
      "2023-05-25 09:30:00-04:00  125.209999  125.980003  125.180000  125.699997   \n",
      "2023-05-25 09:31:00-04:00  125.699997  125.779999  124.877502  125.019997   \n",
      "2023-05-25 09:32:00-04:00  125.019997  125.434196  124.889999  124.919998   \n",
      "2023-05-25 09:33:00-04:00  124.949997  125.290001  124.870003  125.099998   \n",
      "2023-05-25 09:34:00-04:00  125.080002  125.110001  124.769997  125.110001   \n",
      "\n",
      "                            Volume  Dividends  Stock Splits  \n",
      "Datetime                                                     \n",
      "2023-05-25 09:30:00-04:00  2210805        0.0           0.0  \n",
      "2023-05-25 09:31:00-04:00   370352        0.0           0.0  \n",
      "2023-05-25 09:32:00-04:00   271595        0.0           0.0  \n",
      "2023-05-25 09:33:00-04:00   203465        0.0           0.0  \n",
      "2023-05-25 09:34:00-04:00   163335        0.0           0.0  \n"
     ]
    }
   ],
   "source": [
    "df = google.history(period='1d', interval='1m')\n",
    "print(df.head())"
   ]
  },
  {
   "cell_type": "code",
   "execution_count": 38,
   "id": "14bc8b93-8ac5-4bf4-982a-aef73789d28b",
   "metadata": {},
   "outputs": [
    {
     "data": {
      "text/html": [
       "<div>\n",
       "<style scoped>\n",
       "    .dataframe tbody tr th:only-of-type {\n",
       "        vertical-align: middle;\n",
       "    }\n",
       "\n",
       "    .dataframe tbody tr th {\n",
       "        vertical-align: top;\n",
       "    }\n",
       "\n",
       "    .dataframe thead th {\n",
       "        text-align: right;\n",
       "    }\n",
       "</style>\n",
       "<table border=\"1\" class=\"dataframe\">\n",
       "  <thead>\n",
       "    <tr style=\"text-align: right;\">\n",
       "      <th></th>\n",
       "      <th>Low</th>\n",
       "    </tr>\n",
       "    <tr>\n",
       "      <th>Datetime</th>\n",
       "      <th></th>\n",
       "    </tr>\n",
       "  </thead>\n",
       "  <tbody>\n",
       "    <tr>\n",
       "      <th>2023-05-25 09:30:00-04:00</th>\n",
       "      <td>125.180000</td>\n",
       "    </tr>\n",
       "    <tr>\n",
       "      <th>2023-05-25 09:31:00-04:00</th>\n",
       "      <td>124.877502</td>\n",
       "    </tr>\n",
       "    <tr>\n",
       "      <th>2023-05-25 09:32:00-04:00</th>\n",
       "      <td>124.889999</td>\n",
       "    </tr>\n",
       "    <tr>\n",
       "      <th>2023-05-25 09:33:00-04:00</th>\n",
       "      <td>124.870003</td>\n",
       "    </tr>\n",
       "    <tr>\n",
       "      <th>2023-05-25 09:34:00-04:00</th>\n",
       "      <td>124.769997</td>\n",
       "    </tr>\n",
       "  </tbody>\n",
       "</table>\n",
       "</div>"
      ],
      "text/plain": [
       "                                  Low\n",
       "Datetime                             \n",
       "2023-05-25 09:30:00-04:00  125.180000\n",
       "2023-05-25 09:31:00-04:00  124.877502\n",
       "2023-05-25 09:32:00-04:00  124.889999\n",
       "2023-05-25 09:33:00-04:00  124.870003\n",
       "2023-05-25 09:34:00-04:00  124.769997"
      ]
     },
     "execution_count": 38,
     "metadata": {},
     "output_type": "execute_result"
    }
   ],
   "source": [
    "df = google.history(period='1d', interval=\"1m\")\n",
    "df = df[['Low']]\n",
    "df.head()"
   ]
  },
  {
   "cell_type": "code",
   "execution_count": 39,
   "id": "0574c546",
   "metadata": {},
   "outputs": [
    {
     "data": {
      "text/html": [
       "<div>\n",
       "<style scoped>\n",
       "    .dataframe tbody tr th:only-of-type {\n",
       "        vertical-align: middle;\n",
       "    }\n",
       "\n",
       "    .dataframe tbody tr th {\n",
       "        vertical-align: top;\n",
       "    }\n",
       "\n",
       "    .dataframe thead th {\n",
       "        text-align: right;\n",
       "    }\n",
       "</style>\n",
       "<table border=\"1\" class=\"dataframe\">\n",
       "  <thead>\n",
       "    <tr style=\"text-align: right;\">\n",
       "      <th></th>\n",
       "      <th>Low</th>\n",
       "    </tr>\n",
       "    <tr>\n",
       "      <th>date</th>\n",
       "      <th></th>\n",
       "    </tr>\n",
       "  </thead>\n",
       "  <tbody>\n",
       "    <tr>\n",
       "      <th>09:30:00</th>\n",
       "      <td>125.180000</td>\n",
       "    </tr>\n",
       "    <tr>\n",
       "      <th>09:31:00</th>\n",
       "      <td>124.877502</td>\n",
       "    </tr>\n",
       "    <tr>\n",
       "      <th>09:32:00</th>\n",
       "      <td>124.889999</td>\n",
       "    </tr>\n",
       "    <tr>\n",
       "      <th>09:33:00</th>\n",
       "      <td>124.870003</td>\n",
       "    </tr>\n",
       "    <tr>\n",
       "      <th>09:34:00</th>\n",
       "      <td>124.769997</td>\n",
       "    </tr>\n",
       "  </tbody>\n",
       "</table>\n",
       "</div>"
      ],
      "text/plain": [
       "                 Low\n",
       "date                \n",
       "09:30:00  125.180000\n",
       "09:31:00  124.877502\n",
       "09:32:00  124.889999\n",
       "09:33:00  124.870003\n",
       "09:34:00  124.769997"
      ]
     },
     "execution_count": 39,
     "metadata": {},
     "output_type": "execute_result"
    }
   ],
   "source": [
    "df['date'] = pd.to_datetime(df.index).time\n",
    "df.set_index('date', inplace=True)\n",
    "df.head()"
   ]
  },
  {
   "cell_type": "code",
   "execution_count": 40,
   "id": "059fb61a",
   "metadata": {},
   "outputs": [],
   "source": [
    "# Split the data into train and test sets\n",
    "offset = int(0.10 * len(df))\n",
    "X = np.arange(len(df))\n",
    "y = df['Low'].values\n",
    "X_train = X[:-offset]\n",
    "y_train = y[:-offset]\n",
    "X_test = X[-offset:]\n",
    "y_test = y[-offset:]"
   ]
  },
  {
   "cell_type": "code",
   "execution_count": 41,
   "id": "5751eeb7",
   "metadata": {},
   "outputs": [
    {
     "data": {
      "image/png": "[encoded data removed]",
      "text/plain": [
       "<Figure size 640x480 with 1 Axes>"
      ]
     },
     "metadata": {},
     "output_type": "display_data"
    }
   ],
   "source": [
    "#  Plot the data\n",
    "plt.plot(X_train, y_train, label='Train')\n",
    "plt.plot(X_test, y_test, label='Test')\n",
    "plt.legend()\n",
    "plt.show()"
   ]
  },
  {
   "cell_type": "code",
   "execution_count": 42,
   "id": "4dc4f59c",
   "metadata": {},
   "outputs": [
    {
     "name": "stdout",
     "output_type": "stream",
     "text": [
      "Model score: -12.711091014426144\n"
     ]
    }
   ],
   "source": [
    "# Create a linear regression model\n",
    "model = LinearRegression()\n",
    "\n",
    "# Fit the model\n",
    "model.fit(X_train.reshape(-1, 1), y_train)\n",
    "\n",
    "# Evaluate the model\n",
    "score = model.score(X_test.reshape(-1, 1), y_test)\n",
    "print(\"Model score:\", score)"
   ]
  },
  {
   "cell_type": "code",
   "execution_count": 43,
   "id": "579d8a2d",
   "metadata": {},
   "outputs": [
    {
     "name": "stdout",
     "output_type": "stream",
     "text": [
      "Real data for time 0: 125.08999633789062\n",
      "Real data for time 1: 125.1050033569336\n",
      "Pred data for time 1: 124.45426472079906\n"
     ]
    }
   ],
   "source": [
    "#  Print data for analysis\n",
    "print(f'Real data for time 0: {y_train[len(y_train)-1]}')\n",
    "print(f'Real data for time 1: {y_test[0]}')\n",
    "\n",
    "# Predict for time 1\n",
    "forecast = model.predict(X_test.reshape(-1, 1))[0]\n",
    "print(f'Pred data for time 1: {forecast}')\n"
   ]
  },
  {
   "cell_type": "code",
   "execution_count": null,
   "id": "7c8d3023-fac3-4395-8a4f-8d7ed407e1b8",
   "metadata": {},
   "outputs": [],
   "source": []
  }
 ],
 "metadata": {
  "kernelspec": {
   "display_name": "Python 3 (ipykernel)",
   "language": "python",
   "name": "python3"
  },
  "language_info": {
   "codemirror_mode": {
    "name": "ipython",
    "version": 3
   },
   "file_extension": ".py",
   "mimetype": "text/x-python",
   "name": "python",
   "nbconvert_exporter": "python",
   "pygments_lexer": "ipython3",
   "version": "3.10.9"
  }
 },
 "nbformat": 4,
 "nbformat_minor": 5
}
