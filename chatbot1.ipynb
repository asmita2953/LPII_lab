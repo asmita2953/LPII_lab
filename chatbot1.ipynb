{
 "cells": [
  {
   "cell_type": "code",
   "execution_count": null,
   "id": "226f098b-e5ca-4d1b-a870-233ea06b3026",
   "metadata": {},
   "outputs": [
    {
     "name": "stdin",
     "output_type": "stream",
     "text": [
      "What can I help you with today?  What is capital of France?\n"
     ]
    },
    {
     "name": "stdout",
     "output_type": "stream",
     "text": [
      "I don't know the answer to that.\n"
     ]
    },
    {
     "name": "stdin",
     "output_type": "stream",
     "text": [
      "What can I help you with today?  Capital\n"
     ]
    },
    {
     "name": "stdout",
     "output_type": "stream",
     "text": [
      "I'm not sure what you mean.\n"
     ]
    },
    {
     "name": "stdin",
     "output_type": "stream",
     "text": [
      "What can I help you with today?  What is the capital of France?\n"
     ]
    },
    {
     "name": "stdout",
     "output_type": "stream",
     "text": [
      "Paris\n"
     ]
    },
    {
     "name": "stdin",
     "output_type": "stream",
     "text": [
      "What can I help you with today?  What is the population of China?\n"
     ]
    },
    {
     "name": "stdout",
     "output_type": "stream",
     "text": [
      "1.444 billion\n"
     ]
    },
    {
     "name": "stdin",
     "output_type": "stream",
     "text": [
      "What can I help you with today?  What is the highest mountain in the world?\n"
     ]
    },
    {
     "name": "stdout",
     "output_type": "stream",
     "text": [
      "Mount Everest\n"
     ]
    },
    {
     "name": "stdin",
     "output_type": "stream",
     "text": [
      "What can I help you with today?  None\n"
     ]
    },
    {
     "name": "stdout",
     "output_type": "stream",
     "text": [
      "Can you please rephrase your question?\n"
     ]
    }
   ],
   "source": [
    "import random\n",
    "\n",
    "# Define the knowledge base\n",
    "knowledge_base = {\n",
    "    \"What is the capital of France?\": \"Paris\",\n",
    "    \"What is the population of China?\": \"1.444 billion\",\n",
    "    \"What is the highest mountain in the world?\": \"Mount Everest\",\n",
    "}\n",
    "\n",
    "# Define the chatbot function\n",
    "def chatbot(user_input):\n",
    "    # Find the best match in the knowledge base\n",
    "    best_match = None\n",
    "    for question, answer in knowledge_base.items():\n",
    "        if question in user_input:\n",
    "            best_match = answer\n",
    "\n",
    "    # If no match is found, generate a random response\n",
    "    if best_match is None:\n",
    "        best_match = random.choice([\n",
    "            \"I don't know the answer to that.\",\n",
    "            \"Can you please rephrase your question?\",\n",
    "            \"I'm not sure what you mean.\",\n",
    "        ])\n",
    "\n",
    "    # Return the best match\n",
    "    return best_match\n",
    "\n",
    "# Start the chatbot\n",
    "while True:\n",
    "    user_input = input(\"What can I help you with today? \")\n",
    "    response = chatbot(user_input)\n",
    "    print(response)\n"
   ]
  },
  {
   "cell_type": "code",
   "execution_count": null,
   "id": "690cae00-4916-4ba4-8476-884a4cad01ab",
   "metadata": {},
   "outputs": [],
   "source": []
  }
 ],
 "metadata": {
  "kernelspec": {
   "display_name": "Python 3 (ipykernel)",
   "language": "python",
   "name": "python3"
  },
  "language_info": {
   "codemirror_mode": {
    "name": "ipython",
    "version": 3
   },
   "file_extension": ".py",
   "mimetype": "text/x-python",
   "name": "python",
   "nbconvert_exporter": "python",
   "pygments_lexer": "ipython3",
   "version": "3.10.9"
  }
 },
 "nbformat": 4,
 "nbformat_minor": 5
}
