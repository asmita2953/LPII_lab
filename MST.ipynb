{
 "cells": [
  {
   "cell_type": "code",
   "execution_count": 2,
   "id": "dece8bb4-9683-4d7f-98e6-f20d21117c1e",
   "metadata": {},
   "outputs": [
    {
     "name": "stdin",
     "output_type": "stream",
     "text": [
      "Enter the number of vertices:  3\n",
      "Enter the weight of edge between 0 and 0:  0\n",
      "Enter the weight of edge between 0 and 1:  4\n",
      "Enter the weight of edge between 0 and 2:  2\n",
      "Enter the weight of edge between 1 and 0:  5\n",
      "Enter the weight of edge between 1 and 1:  0\n",
      "Enter the weight of edge between 1 and 2:  1\n",
      "Enter the weight of edge between 2 and 0:  2\n",
      "Enter the weight of edge between 2 and 1:  3\n",
      "Enter the weight of edge between 2 and 2:  5\n"
     ]
    },
    {
     "name": "stdout",
     "output_type": "stream",
     "text": [
      "Edge \tWeight\n",
      "2 - 1 \t 1\n",
      "0 - 2 \t 2\n"
     ]
    }
   ],
   "source": [
    "#mst\n",
    "class Graph:\n",
    "    def __init__(self, vertices):\n",
    "        self.V = vertices\n",
    "        self.graph = [[0 for column in range(vertices)] for row in range(vertices)]\n",
    "        \n",
    "    def printMST(self, parent):\n",
    "        print(\"Edge \\tWeight\")\n",
    "        for i in range(1, self.V):\n",
    "            print(parent[i], \"-\", i, \"\\t\", self.graph[i][ parent[i] ])\n",
    "            \n",
    "    def minKey(self, key, mstSet):\n",
    "        min = float('inf')\n",
    "        for v in range(self.V):\n",
    "            if key[v] < min and mstSet[v] == False:\n",
    "                min = key[v]\n",
    "                min_index = v\n",
    "        return min_index\n",
    "    \n",
    "    def primMST(self):\n",
    "        key = [float('inf')] * self.V\n",
    "        parent = [None] * self.V\n",
    "        key[0] = 0\n",
    "        mstSet = [False] * self.V\n",
    "        parent[0] = -1\n",
    "        for cout in range(self.V):\n",
    "            u = self.minKey(key, mstSet)\n",
    "            mstSet[u] = True\n",
    "            for v in range(self.V):\n",
    "                if self.graph[u][v] > 0 and mstSet[v] == False and key[v] > self.graph[u][v]:\n",
    "                    key[v] = self.graph[u][v]\n",
    "                    parent[v] = u\n",
    "        self.printMST(parent)\n",
    "        \n",
    "g = Graph(int(input(\"Enter the number of vertices: \")))\n",
    "for i in range(g.V):\n",
    "    for j in range(g.V):\n",
    "        g.graph[i][j] = int(input(f\"Enter the weight of edge between {i} and {j}: \"))\n",
    "g.primMST()\n"
   ]
  },
  {
   "cell_type": "code",
   "execution_count": null,
   "id": "627fe9a1-ec47-4b90-9ab4-19127545c23f",
   "metadata": {},
   "outputs": [],
   "source": []
  }
 ],
 "metadata": {
  "kernelspec": {
   "display_name": "Python 3 (ipykernel)",
   "language": "python",
   "name": "python3"
  },
  "language_info": {
   "codemirror_mode": {
    "name": "ipython",
    "version": 3
   },
   "file_extension": ".py",
   "mimetype": "text/x-python",
   "name": "python",
   "nbconvert_exporter": "python",
   "pygments_lexer": "ipython3",
   "version": "3.10.9"
  }
 },
 "nbformat": 4,
 "nbformat_minor": 5
}
