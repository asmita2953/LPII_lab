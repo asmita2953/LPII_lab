{
 "cells": [
  {
   "cell_type": "code",
   "execution_count": 5,
   "id": "d264e24f-16c8-466b-8567-917e57784e55",
   "metadata": {},
   "outputs": [
    {
     "name": "stdin",
     "output_type": "stream",
     "text": [
      "Enter the number of jobs:  3\n",
      "Enter deadline and profit for job 1:  2 3\n",
      "Enter deadline and profit for job 2:  1 2\n",
      "Enter deadline and profit for job 3:  3 1\n"
     ]
    },
    {
     "name": "stdout",
     "output_type": "stream",
     "text": [
      "Job sequence: [2, 1, 3]\n"
     ]
    }
   ],
   "source": [
    "#Job Scheduling problem\n",
    "\n",
    "# User input for number of jobs and their respective deadlines and profits\n",
    "n = int(input(\"Enter the number of jobs: \"))\n",
    "jobs = []\n",
    "for i in range(n):\n",
    "    deadline, profit = map(int, input(f\"Enter deadline and profit for job {i+1}: \").split())\n",
    "    jobs.append((deadline, profit))\n",
    "\n",
    "# Sorting jobs in descending order of profit\n",
    "jobs.sort(key=lambda x: x[1], reverse=True)\n",
    "\n",
    "# Greedy algorithm for scheduling jobs\n",
    "schedule = [0] * n\n",
    "for i in range(n):\n",
    "    for j in range(min(n, jobs[i][0])-1, -1, -1):\n",
    "        if schedule[j] == 0:\n",
    "            schedule[j] = i+1\n",
    "            break\n",
    "\n",
    "# Printing the schedule\n",
    "print(\"Job sequence:\", schedule)\n"
   ]
  },
  {
   "cell_type": "code",
   "execution_count": null,
   "id": "baaadbc0-9d15-457e-bf79-79e20c9ddd43",
   "metadata": {},
   "outputs": [],
   "source": []
  }
 ],
 "metadata": {
  "kernelspec": {
   "display_name": "Python 3 (ipykernel)",
   "language": "python",
   "name": "python3"
  },
  "language_info": {
   "codemirror_mode": {
    "name": "ipython",
    "version": 3
   },
   "file_extension": ".py",
   "mimetype": "text/x-python",
   "name": "python",
   "nbconvert_exporter": "python",
   "pygments_lexer": "ipython3",
   "version": "3.10.9"
  }
 },
 "nbformat": 4,
 "nbformat_minor": 5
}
