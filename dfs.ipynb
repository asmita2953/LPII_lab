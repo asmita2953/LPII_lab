{
 "cells": [
  {
   "cell_type": "code",
   "execution_count": 3,
   "id": "143ef0df-fbed-4d73-8a08-30cebe61c449",
   "metadata": {},
   "outputs": [
    {
     "name": "stdin",
     "output_type": "stream",
     "text": [
      "Enter the number nodes in the tree:  5\n",
      "Enter value of root 0\n",
      "enter the value of node:  1\n",
      "enter the value of node:  2\n",
      "enter the value of node:  3\n",
      "enter the value of node:  4\n"
     ]
    },
    {
     "name": "stdout",
     "output_type": "stream",
     "text": [
      "Enter the number of operation to perform DFS : \n"
     ]
    },
    {
     "name": "stdin",
     "output_type": "stream",
     "text": [
      "Enter the number of order of DFS(1.Inorder ,2.Pre-Order, 3.Post-Order) 1\n"
     ]
    },
    {
     "name": "stdout",
     "output_type": "stream",
     "text": [
      "['0', '1', '2', '3', '4']\n"
     ]
    }
   ],
   "source": [
    "class Node:\n",
    "    def __init__(self,data):\n",
    "        self.left=None\n",
    "        self.right=None\n",
    "        self.data=data\n",
    "#Insert Node\n",
    "    def insert(self,data):\n",
    "        if self.data:\n",
    "            if data<self.data:\n",
    "                if self.left is None:\n",
    "                    self.left = Node(data)\n",
    "                else:\n",
    "                    self.left.insert(data)\n",
    "            elif data > self.data:\n",
    "                if self.right is None:\n",
    "                    self.right = Node(data)\n",
    "                else:\n",
    "                    self.right.insert(data)\n",
    "        else:\n",
    "            self.data = data\n",
    "           \n",
    "#Print the Tree\n",
    "    def PrintTree(self):\n",
    "        if self.left:\n",
    "            self.left.PrintTree()\n",
    "        print(self.data),\n",
    "        if self.right:\n",
    "            self.right.PrintTree()\n",
    "#Inorder Traversal\n",
    "    def inorderTraversal(self,root):\n",
    "        res=[]\n",
    "        if root:\n",
    "            res=self.inorderTraversal(root.left)\n",
    "            res.append(root.data)\n",
    "            res = res + self.inorderTraversal(root.right)\n",
    "        return res\n",
    "#Preorder Traversal\n",
    "#Root -> left ->\n",
    "    def PreorderTraversal(self,root):\n",
    "        res = []\n",
    "        if root:\n",
    "            res.append(root.data)\n",
    "            res = res +self.PreorderTraversal(root.left)\n",
    "            res = res +self.PreorderTraversal(root.right)\n",
    "        return res\n",
    "#postorder traversal\n",
    "    def PostorderTraversal(self,root):\n",
    "        res =[]\n",
    "        if root:\n",
    "            res =self.PostorderTraversal(root.left)\n",
    "            res =res+self.PostorderTraversal(root.right)\n",
    "            res.append(root.data)\n",
    "        return res\n",
    "\n",
    "#input for tree\n",
    "n = input(\"Enter the number nodes in the tree: \")\n",
    "flag =False\n",
    "for i in range(int (n)):\n",
    "    if(flag==False):\n",
    "        r = input(\"Enter value of root\")\n",
    "        root =Node(r)\n",
    "        flag =True\n",
    "    else:\n",
    "        r = input(\"enter the value of node: \")\n",
    "        root.insert(r)\n",
    "       \n",
    "print(\"Enter the number of operation to perform DFS : \")\n",
    "order = int(input(\"Enter the number of order of DFS(1.Inorder ,2.Pre-Order, 3.Post-Order)\"))\n",
    "if(order==1):\n",
    "    print(root.inorderTraversal(root))\n",
    "elif(order==2):\n",
    "    print(root.PreorderTraversal(root))\n",
    "elif(order==3):\n",
    "    print(root.PostorderTraversal(root))"
   ]
  },
  {
   "cell_type": "code",
   "execution_count": null,
   "id": "10e683a4-9ddc-49fc-8e49-e8af600f2d6b",
   "metadata": {},
   "outputs": [],
   "source": []
  }
 ],
 "metadata": {
  "kernelspec": {
   "display_name": "Python 3 (ipykernel)",
   "language": "python",
   "name": "python3"
  },
  "language_info": {
   "codemirror_mode": {
    "name": "ipython",
    "version": 3
   },
   "file_extension": ".py",
   "mimetype": "text/x-python",
   "name": "python",
   "nbconvert_exporter": "python",
   "pygments_lexer": "ipython3",
   "version": "3.10.9"
  }
 },
 "nbformat": 4,
 "nbformat_minor": 5
}
